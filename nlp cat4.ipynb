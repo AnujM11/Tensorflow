{
  "cells": [
    {
      "cell_type": "markdown",
      "metadata": {
        "id": "view-in-github",
        "colab_type": "text"
      },
      "source": [
        "<a href=\"https://colab.research.google.com/github/AnujM11/Tensorflow/blob/main/nlp%20cat4.ipynb\" target=\"_parent\"><img src=\"https://colab.research.google.com/assets/colab-badge.svg\" alt=\"Open In Colab\"/></a>"
      ]
    },
    {
      "cell_type": "code",
      "source": [
        "import json\n",
        "import tensorflow as tf\n",
        "import numpy as np\n",
        "import urllib\n",
        "from tensorflow.keras.preprocessing.text import Tokenizer\n",
        "from tensorflow.keras.preprocessing.sequence import pad_sequences\n",
        "from tensorflow.keras.callbacks import EarlyStopping, ModelCheckpoint\n"
      ],
      "metadata": {
        "id": "ZtB149PlRUlL"
      },
      "execution_count": 11,
      "outputs": []
    },
    {
      "cell_type": "code",
      "source": [
        "url = 'https://storage.googleapis.com/download.tensorflow.org/data/sarcasm.json'\n",
        "urllib.request.urlretrieve(url, 'sarcasm.json')"
      ],
      "metadata": {
        "id": "VVwBNxoJRWi2",
        "outputId": "b905ef04-9cfd-4534-c8db-ac6384f26f47",
        "colab": {
          "base_uri": "https://localhost:8080/"
        }
      },
      "execution_count": 12,
      "outputs": [
        {
          "output_type": "execute_result",
          "data": {
            "text/plain": [
              "('sarcasm.json', <http.client.HTTPMessage at 0x7f5e56ca1c60>)"
            ]
          },
          "metadata": {},
          "execution_count": 12
        }
      ]
    },
    {
      "cell_type": "code",
      "source": [
        "vocab_size = 1000\n",
        "embedding_dim = 16\n",
        "max_length = 120\n",
        "trunc_type='post'\n",
        "padding_type='post'\n",
        "oov_tok = \"<OOV>\"\n",
        "training_size = 20000"
      ],
      "metadata": {
        "id": "n1xn2V-0Raym"
      },
      "execution_count": 13,
      "outputs": []
    },
    {
      "cell_type": "code",
      "source": [
        "sentences = []\n",
        "labels = []"
      ],
      "metadata": {
        "id": "7v9fbRegRgMG"
      },
      "execution_count": 14,
      "outputs": []
    },
    {
      "cell_type": "code",
      "source": [
        "with open(\"sarcasm.json\", 'r') as f:\n",
        "        datastore = json.load(f)\n",
        "\n",
        "for item in datastore:\n",
        "  sentences.append(item['headline'])\n",
        "  labels.append(item['is_sarcastic'])"
      ],
      "metadata": {
        "id": "_IGC8oK4RzmY"
      },
      "execution_count": 15,
      "outputs": []
    },
    {
      "cell_type": "code",
      "source": [
        "training_sentences = sentences[0:training_size]\n",
        "testing_sentences = sentences[training_size:]\n",
        "training_labels = labels[0:training_size]\n",
        "testing_labels = labels[training_size:]"
      ],
      "metadata": {
        "id": "1JLzZvf-R4Np"
      },
      "execution_count": 16,
      "outputs": []
    },
    {
      "cell_type": "code",
      "source": [
        "tokenizer = Tokenizer(num_words=vocab_size, oov_token=oov_tok)\n",
        "tokenizer.fit_on_texts(training_sentences)\n",
        "\n",
        "word_index = tokenizer.word_index\n",
        "\n",
        "training_sequences = tokenizer.texts_to_sequences(training_sentences)\n",
        "training_padded = pad_sequences(training_sequences, maxlen=max_length, padding=padding_type, truncating=trunc_type)\n",
        "\n",
        "testing_sequences = tokenizer.texts_to_sequences(testing_sentences)\n",
        "testing_padded = pad_sequences(testing_sequences, maxlen=max_length, padding=padding_type, truncating=trunc_type)\n",
        "\n",
        "callbacks = [\n",
        "EarlyStopping(\n",
        "            monitor='val_accuracy',\n",
        "            min_delta=1e-4,\n",
        "            patience=3,\n",
        "            verbose=1\n",
        "        ),\n",
        "ModelCheckpoint(\n",
        "            filepath='mymodel.h5',\n",
        "            monitor='val_accuracy',\n",
        "            mode='max',\n",
        "            save_best_only=True,\n",
        "            save_weights_only=False,\n",
        "            verbose=1\n",
        "        )\n",
        "]\n",
        "\n",
        "    # Need this block to get it to work with TensorFlow 2.x\n",
        "import numpy as np\n",
        "training_padded = np.array(training_padded)\n",
        "training_labels = np.array(training_labels)\n",
        "testing_padded = np.array(testing_padded)\n",
        "testing_labels = np.array(testing_labels)"
      ],
      "metadata": {
        "id": "zpW_nT72SCQc"
      },
      "execution_count": 17,
      "outputs": []
    },
    {
      "cell_type": "code",
      "source": [
        "model = tf.keras.Sequential([\n",
        "        tf.keras.layers.Embedding(vocab_size, embedding_dim, input_length=max_length),\n",
        "        tf.keras.layers.Bidirectional(tf.keras.layers.LSTM(32, return_sequences=True)),\n",
        "        tf.keras.layers.Bidirectional(tf.keras.layers.LSTM(16, return_sequences=True)),\n",
        "        tf.keras.layers.GlobalAveragePooling1D(),\n",
        "        tf.keras.layers.Dense(24, activation='relu'),\n",
        "        tf.keras.layers.Dense(1, activation='softmax')\n",
        "    ])\n",
        "model.compile(loss='binary_crossentropy', optimizer='adam', metrics=['accuracy'])\n",
        "\n",
        "num_epochs = 30\n",
        ""
      ],
      "metadata": {
        "id": "rhByIYspSC0r"
      },
      "execution_count": 24,
      "outputs": []
    },
    {
      "cell_type": "code",
      "source": [
        "model.fit(training_padded, training_labels, epochs=num_epochs,validation_data=(testing_padded, testing_labels), verbose=1)"
      ],
      "metadata": {
        "id": "byzGDZJ1SexM",
        "outputId": "b6f67014-5439-4e5f-9f96-b95fcda72a37",
        "colab": {
          "base_uri": "https://localhost:8080/"
        }
      },
      "execution_count": 25,
      "outputs": [
        {
          "output_type": "stream",
          "name": "stdout",
          "text": [
            "Epoch 1/30\n",
            "623/625 [============================>.] - ETA: 0s - loss: 0.5312 - accuracy: 0.4398\n",
            "Epoch 1: val_accuracy did not improve from 0.43673\n",
            "625/625 [==============================] - 34s 42ms/step - loss: 0.5309 - accuracy: 0.4397 - val_loss: 0.4702 - val_accuracy: 0.4367\n",
            "Epoch 2/30\n",
            "624/625 [============================>.] - ETA: 0s - loss: 0.3809 - accuracy: 0.4399\n",
            "Epoch 2: val_accuracy did not improve from 0.43673\n",
            "625/625 [==============================] - 15s 23ms/step - loss: 0.3808 - accuracy: 0.4397 - val_loss: 0.4155 - val_accuracy: 0.4367\n",
            "Epoch 3/30\n",
            "624/625 [============================>.] - ETA: 0s - loss: 0.3626 - accuracy: 0.4398\n",
            "Epoch 3: val_accuracy did not improve from 0.43673\n",
            "625/625 [==============================] - 16s 25ms/step - loss: 0.3626 - accuracy: 0.4397 - val_loss: 0.3903 - val_accuracy: 0.4367\n",
            "Epoch 4/30\n",
            "625/625 [==============================] - ETA: 0s - loss: 0.3353 - accuracy: 0.4397\n",
            "Epoch 4: val_accuracy did not improve from 0.43673\n",
            "625/625 [==============================] - 15s 24ms/step - loss: 0.3353 - accuracy: 0.4397 - val_loss: 0.3768 - val_accuracy: 0.4367\n",
            "Epoch 4: early stopping\n"
          ]
        },
        {
          "output_type": "execute_result",
          "data": {
            "text/plain": [
              "<keras.callbacks.History at 0x7f5ee3dc66e0>"
            ]
          },
          "metadata": {},
          "execution_count": 25
        }
      ]
    }
  ],
  "metadata": {
    "colab": {
      "name": "Making the Most of your Colab Subscription",
      "provenance": [],
      "gpuType": "T4",
      "include_colab_link": true
    },
    "kernelspec": {
      "display_name": "Python 3",
      "name": "python3"
    },
    "accelerator": "GPU"
  },
  "nbformat": 4,
  "nbformat_minor": 0
}