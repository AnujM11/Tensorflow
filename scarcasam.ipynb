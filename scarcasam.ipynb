{
  "cells": [
    {
      "cell_type": "code",
      "source": [
        "import json\n",
        "import tensorflow as tf\n",
        "import numpy as np\n",
        "import urllib\n",
        "from tensorflow.keras.preprocessing.text import Tokenizer\n",
        "from tensorflow.keras.preprocessing.sequence import pad_sequences\n",
        "from tensorflow.keras.callbacks import EarlyStopping, ModelCheckpoint"
      ],
      "metadata": {
        "id": "ZtB149PlRUlL"
      },
      "execution_count": 1,
      "outputs": []
    },
    {
      "cell_type": "code",
      "source": [
        "!wget http://nlp.stanford.edu/data/glove.6B.zip"
      ],
      "metadata": {
        "id": "404eujlf4gXr",
        "outputId": "e0382529-9af1-42fd-ddf6-14f77cc65b1d",
        "colab": {
          "base_uri": "https://localhost:8080/"
        }
      },
      "execution_count": 2,
      "outputs": [
        {
          "output_type": "stream",
          "name": "stdout",
          "text": [
            "--2023-08-15 11:09:09--  http://nlp.stanford.edu/data/glove.6B.zip\n",
            "Resolving nlp.stanford.edu (nlp.stanford.edu)... 171.64.67.140\n",
            "Connecting to nlp.stanford.edu (nlp.stanford.edu)|171.64.67.140|:80... connected.\n",
            "HTTP request sent, awaiting response... 302 Found\n",
            "Location: https://nlp.stanford.edu/data/glove.6B.zip [following]\n",
            "--2023-08-15 11:09:09--  https://nlp.stanford.edu/data/glove.6B.zip\n",
            "Connecting to nlp.stanford.edu (nlp.stanford.edu)|171.64.67.140|:443... connected.\n",
            "HTTP request sent, awaiting response... 301 Moved Permanently\n",
            "Location: https://downloads.cs.stanford.edu/nlp/data/glove.6B.zip [following]\n",
            "--2023-08-15 11:09:10--  https://downloads.cs.stanford.edu/nlp/data/glove.6B.zip\n",
            "Resolving downloads.cs.stanford.edu (downloads.cs.stanford.edu)... 171.64.64.22\n",
            "Connecting to downloads.cs.stanford.edu (downloads.cs.stanford.edu)|171.64.64.22|:443... connected.\n",
            "HTTP request sent, awaiting response... 200 OK\n",
            "Length: 862182613 (822M) [application/zip]\n",
            "Saving to: ‘glove.6B.zip’\n",
            "\n",
            "glove.6B.zip        100%[===================>] 822.24M  4.87MB/s    in 2m 39s  \n",
            "\n",
            "2023-08-15 11:11:49 (5.16 MB/s) - ‘glove.6B.zip’ saved [862182613/862182613]\n",
            "\n"
          ]
        }
      ]
    },
    {
      "cell_type": "code",
      "source": [
        "!unzip glove*.zip"
      ],
      "metadata": {
        "id": "GXmBhxmA4lqE",
        "outputId": "54aaabe8-4a57-433a-d2a1-ebad08c8ec3d",
        "colab": {
          "base_uri": "https://localhost:8080/"
        }
      },
      "execution_count": 3,
      "outputs": [
        {
          "output_type": "stream",
          "name": "stdout",
          "text": [
            "Archive:  glove.6B.zip\n",
            "  inflating: glove.6B.50d.txt        \n",
            "  inflating: glove.6B.100d.txt       \n",
            "  inflating: glove.6B.200d.txt       \n",
            "  inflating: glove.6B.300d.txt       \n"
          ]
        }
      ]
    },
    {
      "cell_type": "code",
      "source": [
        "embeddings_index = {}\n",
        "with open('glove.6B.100d.txt') as f:\n",
        "  for line in f:\n",
        "    values = line.split()\n",
        "    word = values[0]\n",
        "    coefs = np.asarray(values[1:], dtype='float32')\n",
        "    embeddings_index[word]=coefs"
      ],
      "metadata": {
        "id": "i42DiWcM4lyy"
      },
      "execution_count": 4,
      "outputs": []
    },
    {
      "cell_type": "code",
      "source": [
        "url = 'https://storage.googleapis.com/download.tensorflow.org/data/sarcasm.json'\n",
        "urllib.request.urlretrieve(url, 'sarcasm.json')"
      ],
      "metadata": {
        "colab": {
          "base_uri": "https://localhost:8080/"
        },
        "id": "VVwBNxoJRWi2",
        "outputId": "eaae6d23-d081-4263-bae3-490a88357673"
      },
      "execution_count": 8,
      "outputs": [
        {
          "output_type": "execute_result",
          "data": {
            "text/plain": [
              "('sarcasm.json', <http.client.HTTPMessage at 0x78f7013a8fd0>)"
            ]
          },
          "metadata": {},
          "execution_count": 8
        }
      ]
    },
    {
      "cell_type": "code",
      "source": [
        "vocab_size = 1000\n",
        "embedding_dim = 100\n",
        "max_length = 120\n",
        "trunc_type='post'\n",
        "padding_type='post'\n",
        "oov_tok = \"<OOV>\"\n",
        "training_size = 20000"
      ],
      "metadata": {
        "id": "n1xn2V-0Raym"
      },
      "execution_count": 16,
      "outputs": []
    },
    {
      "cell_type": "code",
      "source": [
        "sentences = []\n",
        "labels = []"
      ],
      "metadata": {
        "id": "7v9fbRegRgMG"
      },
      "execution_count": 17,
      "outputs": []
    },
    {
      "cell_type": "code",
      "source": [
        "with open(\"sarcasm.json\", 'r') as f:\n",
        "        datastore = json.load(f)\n",
        "\n",
        "for item in datastore:\n",
        "  sentences.append(item['headline'])\n",
        "  labels.append(item['is_sarcastic'])"
      ],
      "metadata": {
        "id": "_IGC8oK4RzmY"
      },
      "execution_count": 18,
      "outputs": []
    },
    {
      "cell_type": "code",
      "source": [
        "training_sentences = sentences[0:training_size]\n",
        "testing_sentences = sentences[training_size:]\n",
        "training_labels = labels[0:training_size]\n",
        "testing_labels = labels[training_size:]"
      ],
      "metadata": {
        "id": "1JLzZvf-R4Np"
      },
      "execution_count": 19,
      "outputs": []
    },
    {
      "cell_type": "code",
      "source": [
        "tokenizer = Tokenizer(num_words=vocab_size, oov_token=oov_tok)\n",
        "tokenizer.fit_on_texts(training_sentences)\n",
        "\n",
        "word_index = tokenizer.word_index\n",
        "\n",
        "training_sequences = tokenizer.texts_to_sequences(training_sentences)\n",
        "training_padded = pad_sequences(training_sequences, maxlen=max_length, padding=padding_type, truncating=trunc_type)\n",
        "\n",
        "testing_sequences = tokenizer.texts_to_sequences(testing_sentences)\n",
        "testing_padded = pad_sequences(testing_sequences, maxlen=max_length, padding=padding_type, truncating=trunc_type)\n",
        "\n",
        "callbacks = [\n",
        "EarlyStopping(\n",
        "            monitor='val_accuracy',\n",
        "            min_delta=1e-4,\n",
        "            patience=3,\n",
        "            verbose=1\n",
        "        ),\n",
        "ModelCheckpoint(\n",
        "            filepath='mymodel.h5',\n",
        "            monitor='val_accuracy',\n",
        "            mode='max',\n",
        "            save_best_only=True,\n",
        "            save_weights_only=False,\n",
        "            verbose=1\n",
        "        )\n",
        "]\n",
        "\n",
        "    # Need this block to get it to work with TensorFlow 2.x\n",
        "import numpy as np\n",
        "training_padded = np.array(training_padded)\n",
        "training_labels = np.array(training_labels)\n",
        "testing_padded = np.array(testing_padded)\n",
        "testing_labels = np.array(testing_labels)"
      ],
      "metadata": {
        "id": "zpW_nT72SCQc"
      },
      "execution_count": 20,
      "outputs": []
    },
    {
      "cell_type": "code",
      "source": [
        "embeddings_matrix = np.zeros((vocab_size, embedding_dim))\n",
        "for key in sorted(word_index, key=word_index.get)[:vocab_size]:\n",
        "    embedding_vector = embeddings_index.get(key)\n",
        "    if embedding_vector is not None:\n",
        "        embeddings_matrix[word_index[key]] = embedding_vector"
      ],
      "metadata": {
        "id": "GQ0czV1K6xv7"
      },
      "execution_count": 26,
      "outputs": []
    },
    {
      "cell_type": "code",
      "source": [
        "embeddings_matrix.shape"
      ],
      "metadata": {
        "id": "h8y95gDP7MVb",
        "outputId": "f2bd9359-1851-444f-c9e0-88623e7198b0",
        "colab": {
          "base_uri": "https://localhost:8080/"
        }
      },
      "execution_count": 27,
      "outputs": [
        {
          "output_type": "execute_result",
          "data": {
            "text/plain": [
              "(1000, 100)"
            ]
          },
          "metadata": {},
          "execution_count": 27
        }
      ]
    },
    {
      "cell_type": "code",
      "source": [
        "for key in sorted(word_index, key=word_index.get)[:10]:\n",
        "  print(key,end=' ')\n",
        "  print(word_index.get(key))"
      ],
      "metadata": {
        "id": "mRi713RN7SaK",
        "outputId": "da433e4d-abca-41d1-ecdf-d2724186a71f",
        "colab": {
          "base_uri": "https://localhost:8080/"
        }
      },
      "execution_count": 28,
      "outputs": [
        {
          "output_type": "stream",
          "name": "stdout",
          "text": [
            "<OOV> 1\n",
            "to 2\n",
            "of 3\n",
            "the 4\n",
            "in 5\n",
            "for 6\n",
            "a 7\n",
            "on 8\n",
            "and 9\n",
            "with 10\n"
          ]
        }
      ]
    },
    {
      "cell_type": "code",
      "source": [
        "model = tf.keras.Sequential([\n",
        "        tf.keras.layers.Embedding(vocab_size, embedding_dim, input_length=max_length, weights=[embeddings_matrix]),\n",
        "        tf.keras.layers.Bidirectional(tf.keras.layers.LSTM(64, return_sequences=True)),\n",
        "        #tf.keras.layers.Bidirectional(tf.keras.layers.LSTM(16, return_sequences=True)),\n",
        "        tf.keras.layers.GlobalAveragePooling1D(),\n",
        "        tf.keras.layers.Dense(64, activation='relu'),\n",
        "        tf.keras.layers.Dense(32, activation='relu'),\n",
        "        tf.keras.layers.Dense(1, activation='softmax')\n",
        "    ])\n",
        "model.compile(loss='binary_crossentropy', optimizer=tf.keras.optimizers.SGD(learning_rate=1e-5), metrics=['accuracy'])\n",
        "\n",
        "num_epochs = 10\n",
        ""
      ],
      "metadata": {
        "id": "rhByIYspSC0r"
      },
      "execution_count": 31,
      "outputs": []
    },
    {
      "cell_type": "code",
      "source": [
        "model = tf.keras.Sequential([\n",
        "    tf.keras.layers.Embedding(vocab_size, embedding_dim, input_length=max_length, weights=[embeddings_matrix]),\n",
        "    tf.keras.layers.Conv1D(8, 5, activation='relu'),\n",
        "    tf.keras.layers.Bidirectional(tf.keras.layers.LSTM(64, return_sequences=True)),\n",
        "    tf.keras.layers.GlobalMaxPooling1D(),\n",
        "    tf.keras.layers.Dense(128, activation='relu'),\n",
        "    tf.keras.layers.Dense(64, activation='relu'),\n",
        "    tf.keras.layers.Dense(32, activation='relu'),\n",
        "    tf.keras.layers.Dense(16, activation='relu'),\n",
        "    tf.keras.layers.Dense(1, activation='sigmoid')\n",
        "])\n",
        "model.compile(loss='binary_crossentropy', optimizer=tf.keras.optimizers.Adam(learning_rate=1e-5), metrics=['accuracy'])\n",
        "\n",
        "num_epochs = 150"
      ],
      "metadata": {
        "id": "SWjm_prJaoAw"
      },
      "execution_count": 60,
      "outputs": []
    },
    {
      "cell_type": "code",
      "source": [
        "history = model.fit(training_padded, training_labels, epochs=num_epochs,validation_data=(testing_padded, testing_labels), verbose=1)"
      ],
      "metadata": {
        "colab": {
          "base_uri": "https://localhost:8080/"
        },
        "id": "byzGDZJ1SexM",
        "outputId": "342c1484-d303-4d72-8ebc-a5a744bea514"
      },
      "execution_count": 61,
      "outputs": [
        {
          "output_type": "stream",
          "name": "stdout",
          "text": [
            "Epoch 1/150\n",
            "625/625 [==============================] - 21s 26ms/step - loss: 0.6926 - accuracy: 0.5135 - val_loss: 0.6900 - val_accuracy: 0.5628\n",
            "Epoch 2/150\n",
            "625/625 [==============================] - 9s 14ms/step - loss: 0.6876 - accuracy: 0.5605 - val_loss: 0.6845 - val_accuracy: 0.5633\n",
            "Epoch 3/150\n",
            "625/625 [==============================] - 9s 14ms/step - loss: 0.6803 - accuracy: 0.5604 - val_loss: 0.6756 - val_accuracy: 0.5634\n",
            "Epoch 4/150\n",
            "625/625 [==============================] - 8s 13ms/step - loss: 0.6655 - accuracy: 0.5816 - val_loss: 0.6534 - val_accuracy: 0.6236\n",
            "Epoch 5/150\n",
            "625/625 [==============================] - 8s 13ms/step - loss: 0.6293 - accuracy: 0.6617 - val_loss: 0.6108 - val_accuracy: 0.6828\n",
            "Epoch 6/150\n",
            "625/625 [==============================] - 8s 13ms/step - loss: 0.5820 - accuracy: 0.7024 - val_loss: 0.5735 - val_accuracy: 0.7025\n",
            "Epoch 7/150\n",
            "625/625 [==============================] - 8s 13ms/step - loss: 0.5531 - accuracy: 0.7175 - val_loss: 0.5558 - val_accuracy: 0.7143\n",
            "Epoch 8/150\n",
            "625/625 [==============================] - 8s 13ms/step - loss: 0.5368 - accuracy: 0.7266 - val_loss: 0.5463 - val_accuracy: 0.7207\n",
            "Epoch 9/150\n",
            "625/625 [==============================] - 8s 13ms/step - loss: 0.5256 - accuracy: 0.7364 - val_loss: 0.5345 - val_accuracy: 0.7286\n",
            "Epoch 10/150\n",
            "625/625 [==============================] - 8s 13ms/step - loss: 0.5158 - accuracy: 0.7448 - val_loss: 0.5260 - val_accuracy: 0.7324\n",
            "Epoch 11/150\n",
            "625/625 [==============================] - 8s 13ms/step - loss: 0.5076 - accuracy: 0.7498 - val_loss: 0.5187 - val_accuracy: 0.7398\n",
            "Epoch 12/150\n",
            "625/625 [==============================] - 8s 13ms/step - loss: 0.4996 - accuracy: 0.7552 - val_loss: 0.5130 - val_accuracy: 0.7456\n",
            "Epoch 13/150\n",
            "625/625 [==============================] - 8s 13ms/step - loss: 0.4929 - accuracy: 0.7611 - val_loss: 0.5057 - val_accuracy: 0.7462\n",
            "Epoch 14/150\n",
            "625/625 [==============================] - 8s 13ms/step - loss: 0.4864 - accuracy: 0.7670 - val_loss: 0.5002 - val_accuracy: 0.7517\n",
            "Epoch 15/150\n",
            "625/625 [==============================] - 9s 14ms/step - loss: 0.4808 - accuracy: 0.7699 - val_loss: 0.4972 - val_accuracy: 0.7548\n",
            "Epoch 16/150\n",
            "625/625 [==============================] - 8s 13ms/step - loss: 0.4749 - accuracy: 0.7746 - val_loss: 0.4902 - val_accuracy: 0.7578\n",
            "Epoch 17/150\n",
            "625/625 [==============================] - 8s 13ms/step - loss: 0.4698 - accuracy: 0.7783 - val_loss: 0.4874 - val_accuracy: 0.7615\n",
            "Epoch 18/150\n",
            "625/625 [==============================] - 8s 13ms/step - loss: 0.4649 - accuracy: 0.7812 - val_loss: 0.4819 - val_accuracy: 0.7627\n",
            "Epoch 19/150\n",
            "625/625 [==============================] - 8s 14ms/step - loss: 0.4601 - accuracy: 0.7832 - val_loss: 0.4809 - val_accuracy: 0.7679\n",
            "Epoch 20/150\n",
            "625/625 [==============================] - 8s 13ms/step - loss: 0.4558 - accuracy: 0.7842 - val_loss: 0.4743 - val_accuracy: 0.7687\n",
            "Epoch 21/150\n",
            "625/625 [==============================] - 8s 13ms/step - loss: 0.4521 - accuracy: 0.7878 - val_loss: 0.4718 - val_accuracy: 0.7724\n",
            "Epoch 22/150\n",
            "625/625 [==============================] - 8s 13ms/step - loss: 0.4479 - accuracy: 0.7908 - val_loss: 0.4676 - val_accuracy: 0.7724\n",
            "Epoch 23/150\n",
            "625/625 [==============================] - 8s 13ms/step - loss: 0.4433 - accuracy: 0.7924 - val_loss: 0.4646 - val_accuracy: 0.7736\n",
            "Epoch 24/150\n",
            "625/625 [==============================] - 8s 13ms/step - loss: 0.4401 - accuracy: 0.7947 - val_loss: 0.4612 - val_accuracy: 0.7784\n",
            "Epoch 25/150\n",
            "625/625 [==============================] - 8s 13ms/step - loss: 0.4363 - accuracy: 0.7957 - val_loss: 0.4593 - val_accuracy: 0.7819\n",
            "Epoch 26/150\n",
            "625/625 [==============================] - 8s 13ms/step - loss: 0.4327 - accuracy: 0.7991 - val_loss: 0.4559 - val_accuracy: 0.7813\n",
            "Epoch 27/150\n",
            "625/625 [==============================] - 8s 13ms/step - loss: 0.4293 - accuracy: 0.8012 - val_loss: 0.4536 - val_accuracy: 0.7851\n",
            "Epoch 28/150\n",
            "625/625 [==============================] - 8s 13ms/step - loss: 0.4262 - accuracy: 0.8029 - val_loss: 0.4509 - val_accuracy: 0.7854\n",
            "Epoch 29/150\n",
            "625/625 [==============================] - 8s 13ms/step - loss: 0.4232 - accuracy: 0.8035 - val_loss: 0.4484 - val_accuracy: 0.7869\n",
            "Epoch 30/150\n",
            "625/625 [==============================] - 8s 13ms/step - loss: 0.4200 - accuracy: 0.8055 - val_loss: 0.4466 - val_accuracy: 0.7894\n",
            "Epoch 31/150\n",
            "625/625 [==============================] - 8s 13ms/step - loss: 0.4170 - accuracy: 0.8079 - val_loss: 0.4442 - val_accuracy: 0.7892\n",
            "Epoch 32/150\n",
            "625/625 [==============================] - 8s 13ms/step - loss: 0.4139 - accuracy: 0.8104 - val_loss: 0.4420 - val_accuracy: 0.7933\n",
            "Epoch 33/150\n",
            "625/625 [==============================] - 8s 13ms/step - loss: 0.4115 - accuracy: 0.8103 - val_loss: 0.4419 - val_accuracy: 0.7933\n",
            "Epoch 34/150\n",
            "625/625 [==============================] - 8s 13ms/step - loss: 0.4086 - accuracy: 0.8121 - val_loss: 0.4379 - val_accuracy: 0.7951\n",
            "Epoch 35/150\n",
            "625/625 [==============================] - 8s 13ms/step - loss: 0.4061 - accuracy: 0.8138 - val_loss: 0.4379 - val_accuracy: 0.7951\n",
            "Epoch 36/150\n",
            "625/625 [==============================] - 8s 13ms/step - loss: 0.4032 - accuracy: 0.8154 - val_loss: 0.4348 - val_accuracy: 0.7974\n",
            "Epoch 37/150\n",
            "625/625 [==============================] - 8s 13ms/step - loss: 0.4006 - accuracy: 0.8170 - val_loss: 0.4336 - val_accuracy: 0.7991\n",
            "Epoch 38/150\n",
            "625/625 [==============================] - 8s 13ms/step - loss: 0.3986 - accuracy: 0.8184 - val_loss: 0.4309 - val_accuracy: 0.7994\n",
            "Epoch 39/150\n",
            "625/625 [==============================] - 8s 13ms/step - loss: 0.3957 - accuracy: 0.8195 - val_loss: 0.4299 - val_accuracy: 0.8001\n",
            "Epoch 40/150\n",
            "625/625 [==============================] - 8s 13ms/step - loss: 0.3934 - accuracy: 0.8202 - val_loss: 0.4281 - val_accuracy: 0.8009\n",
            "Epoch 41/150\n",
            "625/625 [==============================] - 8s 13ms/step - loss: 0.3911 - accuracy: 0.8222 - val_loss: 0.4269 - val_accuracy: 0.8007\n",
            "Epoch 42/150\n",
            "625/625 [==============================] - 8s 13ms/step - loss: 0.3895 - accuracy: 0.8225 - val_loss: 0.4255 - val_accuracy: 0.8030\n",
            "Epoch 43/150\n",
            "625/625 [==============================] - 8s 13ms/step - loss: 0.3870 - accuracy: 0.8237 - val_loss: 0.4240 - val_accuracy: 0.8025\n",
            "Epoch 44/150\n",
            "625/625 [==============================] - 8s 13ms/step - loss: 0.3854 - accuracy: 0.8235 - val_loss: 0.4244 - val_accuracy: 0.8009\n",
            "Epoch 45/150\n",
            "625/625 [==============================] - 8s 13ms/step - loss: 0.3829 - accuracy: 0.8254 - val_loss: 0.4215 - val_accuracy: 0.8043\n",
            "Epoch 46/150\n",
            "625/625 [==============================] - 8s 13ms/step - loss: 0.3807 - accuracy: 0.8271 - val_loss: 0.4204 - val_accuracy: 0.8052\n",
            "Epoch 47/150\n",
            "625/625 [==============================] - 8s 13ms/step - loss: 0.3791 - accuracy: 0.8286 - val_loss: 0.4190 - val_accuracy: 0.8053\n",
            "Epoch 48/150\n",
            "625/625 [==============================] - 8s 13ms/step - loss: 0.3771 - accuracy: 0.8299 - val_loss: 0.4173 - val_accuracy: 0.8055\n",
            "Epoch 49/150\n",
            "625/625 [==============================] - 8s 13ms/step - loss: 0.3751 - accuracy: 0.8295 - val_loss: 0.4160 - val_accuracy: 0.8067\n",
            "Epoch 50/150\n",
            "625/625 [==============================] - 8s 13ms/step - loss: 0.3732 - accuracy: 0.8309 - val_loss: 0.4164 - val_accuracy: 0.8056\n",
            "Epoch 51/150\n",
            "625/625 [==============================] - 8s 13ms/step - loss: 0.3709 - accuracy: 0.8322 - val_loss: 0.4146 - val_accuracy: 0.8061\n",
            "Epoch 52/150\n",
            "625/625 [==============================] - 8s 13ms/step - loss: 0.3694 - accuracy: 0.8328 - val_loss: 0.4131 - val_accuracy: 0.8073\n",
            "Epoch 53/150\n",
            "625/625 [==============================] - 8s 13ms/step - loss: 0.3677 - accuracy: 0.8335 - val_loss: 0.4160 - val_accuracy: 0.8049\n",
            "Epoch 54/150\n",
            "625/625 [==============================] - 8s 13ms/step - loss: 0.3663 - accuracy: 0.8339 - val_loss: 0.4118 - val_accuracy: 0.8083\n",
            "Epoch 55/150\n",
            "625/625 [==============================] - 8s 13ms/step - loss: 0.3645 - accuracy: 0.8356 - val_loss: 0.4110 - val_accuracy: 0.8111\n",
            "Epoch 56/150\n",
            "625/625 [==============================] - 8s 13ms/step - loss: 0.3628 - accuracy: 0.8368 - val_loss: 0.4156 - val_accuracy: 0.8071\n",
            "Epoch 57/150\n",
            "625/625 [==============================] - 8s 13ms/step - loss: 0.3612 - accuracy: 0.8372 - val_loss: 0.4096 - val_accuracy: 0.8097\n",
            "Epoch 58/150\n",
            "625/625 [==============================] - 8s 13ms/step - loss: 0.3600 - accuracy: 0.8376 - val_loss: 0.4086 - val_accuracy: 0.8110\n",
            "Epoch 59/150\n",
            "625/625 [==============================] - 8s 13ms/step - loss: 0.3581 - accuracy: 0.8400 - val_loss: 0.4083 - val_accuracy: 0.8094\n",
            "Epoch 60/150\n",
            "625/625 [==============================] - 8s 13ms/step - loss: 0.3570 - accuracy: 0.8392 - val_loss: 0.4066 - val_accuracy: 0.8098\n",
            "Epoch 61/150\n",
            "625/625 [==============================] - 8s 13ms/step - loss: 0.3553 - accuracy: 0.8410 - val_loss: 0.4059 - val_accuracy: 0.8123\n",
            "Epoch 62/150\n",
            "625/625 [==============================] - 8s 13ms/step - loss: 0.3537 - accuracy: 0.8418 - val_loss: 0.4055 - val_accuracy: 0.8125\n",
            "Epoch 63/150\n",
            "625/625 [==============================] - 8s 13ms/step - loss: 0.3521 - accuracy: 0.8419 - val_loss: 0.4077 - val_accuracy: 0.8098\n",
            "Epoch 64/150\n",
            "625/625 [==============================] - 8s 13ms/step - loss: 0.3513 - accuracy: 0.8424 - val_loss: 0.4052 - val_accuracy: 0.8126\n",
            "Epoch 65/150\n",
            "625/625 [==============================] - 8s 13ms/step - loss: 0.3497 - accuracy: 0.8438 - val_loss: 0.4045 - val_accuracy: 0.8109\n",
            "Epoch 66/150\n",
            "625/625 [==============================] - 8s 13ms/step - loss: 0.3485 - accuracy: 0.8442 - val_loss: 0.4082 - val_accuracy: 0.8094\n",
            "Epoch 67/150\n",
            "625/625 [==============================] - 8s 13ms/step - loss: 0.3467 - accuracy: 0.8460 - val_loss: 0.4059 - val_accuracy: 0.8120\n",
            "Epoch 68/150\n",
            "625/625 [==============================] - 8s 13ms/step - loss: 0.3455 - accuracy: 0.8449 - val_loss: 0.4015 - val_accuracy: 0.8117\n",
            "Epoch 69/150\n",
            "625/625 [==============================] - 8s 13ms/step - loss: 0.3441 - accuracy: 0.8468 - val_loss: 0.4025 - val_accuracy: 0.8129\n",
            "Epoch 70/150\n",
            "625/625 [==============================] - 8s 13ms/step - loss: 0.3429 - accuracy: 0.8465 - val_loss: 0.4036 - val_accuracy: 0.8129\n",
            "Epoch 71/150\n",
            "625/625 [==============================] - 8s 13ms/step - loss: 0.3417 - accuracy: 0.8479 - val_loss: 0.4011 - val_accuracy: 0.8135\n",
            "Epoch 72/150\n",
            "625/625 [==============================] - 8s 13ms/step - loss: 0.3403 - accuracy: 0.8479 - val_loss: 0.3996 - val_accuracy: 0.8146\n",
            "Epoch 73/150\n",
            "625/625 [==============================] - 8s 13ms/step - loss: 0.3390 - accuracy: 0.8487 - val_loss: 0.4002 - val_accuracy: 0.8155\n",
            "Epoch 74/150\n",
            "625/625 [==============================] - 8s 13ms/step - loss: 0.3382 - accuracy: 0.8500 - val_loss: 0.4003 - val_accuracy: 0.8170\n",
            "Epoch 75/150\n",
            "625/625 [==============================] - 8s 13ms/step - loss: 0.3369 - accuracy: 0.8491 - val_loss: 0.3988 - val_accuracy: 0.8164\n",
            "Epoch 76/150\n",
            "625/625 [==============================] - 8s 13ms/step - loss: 0.3355 - accuracy: 0.8498 - val_loss: 0.4019 - val_accuracy: 0.8138\n",
            "Epoch 77/150\n",
            "625/625 [==============================] - 8s 13ms/step - loss: 0.3346 - accuracy: 0.8509 - val_loss: 0.3984 - val_accuracy: 0.8174\n",
            "Epoch 78/150\n",
            "625/625 [==============================] - 8s 13ms/step - loss: 0.3330 - accuracy: 0.8516 - val_loss: 0.3997 - val_accuracy: 0.8174\n",
            "Epoch 79/150\n",
            "625/625 [==============================] - 8s 13ms/step - loss: 0.3325 - accuracy: 0.8512 - val_loss: 0.3981 - val_accuracy: 0.8171\n",
            "Epoch 80/150\n",
            "625/625 [==============================] - 8s 13ms/step - loss: 0.3313 - accuracy: 0.8519 - val_loss: 0.3963 - val_accuracy: 0.8195\n",
            "Epoch 81/150\n",
            "625/625 [==============================] - 8s 13ms/step - loss: 0.3302 - accuracy: 0.8525 - val_loss: 0.3987 - val_accuracy: 0.8174\n",
            "Epoch 82/150\n",
            "625/625 [==============================] - 8s 13ms/step - loss: 0.3292 - accuracy: 0.8530 - val_loss: 0.3958 - val_accuracy: 0.8188\n",
            "Epoch 83/150\n",
            "625/625 [==============================] - 8s 13ms/step - loss: 0.3280 - accuracy: 0.8536 - val_loss: 0.3958 - val_accuracy: 0.8193\n",
            "Epoch 84/150\n",
            "625/625 [==============================] - 8s 14ms/step - loss: 0.3270 - accuracy: 0.8547 - val_loss: 0.3955 - val_accuracy: 0.8198\n",
            "Epoch 85/150\n",
            "625/625 [==============================] - 8s 13ms/step - loss: 0.3261 - accuracy: 0.8548 - val_loss: 0.4017 - val_accuracy: 0.8174\n",
            "Epoch 86/150\n",
            "625/625 [==============================] - 8s 13ms/step - loss: 0.3248 - accuracy: 0.8564 - val_loss: 0.3977 - val_accuracy: 0.8196\n",
            "Epoch 87/150\n",
            "625/625 [==============================] - 8s 13ms/step - loss: 0.3241 - accuracy: 0.8550 - val_loss: 0.3951 - val_accuracy: 0.8214\n",
            "Epoch 88/150\n",
            "625/625 [==============================] - 8s 13ms/step - loss: 0.3226 - accuracy: 0.8572 - val_loss: 0.3943 - val_accuracy: 0.8213\n",
            "Epoch 89/150\n",
            "625/625 [==============================] - 8s 13ms/step - loss: 0.3220 - accuracy: 0.8563 - val_loss: 0.3948 - val_accuracy: 0.8214\n",
            "Epoch 90/150\n",
            "625/625 [==============================] - 8s 13ms/step - loss: 0.3211 - accuracy: 0.8557 - val_loss: 0.3962 - val_accuracy: 0.8192\n",
            "Epoch 91/150\n",
            "625/625 [==============================] - 8s 13ms/step - loss: 0.3202 - accuracy: 0.8572 - val_loss: 0.3929 - val_accuracy: 0.8232\n",
            "Epoch 92/150\n",
            "625/625 [==============================] - 8s 13ms/step - loss: 0.3193 - accuracy: 0.8583 - val_loss: 0.3948 - val_accuracy: 0.8238\n",
            "Epoch 93/150\n",
            "625/625 [==============================] - 8s 13ms/step - loss: 0.3183 - accuracy: 0.8589 - val_loss: 0.3955 - val_accuracy: 0.8246\n",
            "Epoch 94/150\n",
            "625/625 [==============================] - 8s 13ms/step - loss: 0.3179 - accuracy: 0.8591 - val_loss: 0.3937 - val_accuracy: 0.8238\n",
            "Epoch 95/150\n",
            "625/625 [==============================] - 8s 13ms/step - loss: 0.3165 - accuracy: 0.8587 - val_loss: 0.3941 - val_accuracy: 0.8220\n",
            "Epoch 96/150\n",
            "625/625 [==============================] - 8s 12ms/step - loss: 0.3155 - accuracy: 0.8587 - val_loss: 0.3921 - val_accuracy: 0.8235\n",
            "Epoch 97/150\n",
            "625/625 [==============================] - 8s 13ms/step - loss: 0.3147 - accuracy: 0.8601 - val_loss: 0.3921 - val_accuracy: 0.8252\n",
            "Epoch 98/150\n",
            "625/625 [==============================] - 8s 13ms/step - loss: 0.3140 - accuracy: 0.8604 - val_loss: 0.3938 - val_accuracy: 0.8222\n",
            "Epoch 99/150\n",
            "625/625 [==============================] - 8s 13ms/step - loss: 0.3128 - accuracy: 0.8602 - val_loss: 0.3926 - val_accuracy: 0.8237\n",
            "Epoch 100/150\n",
            "625/625 [==============================] - 8s 13ms/step - loss: 0.3122 - accuracy: 0.8611 - val_loss: 0.3927 - val_accuracy: 0.8247\n",
            "Epoch 101/150\n",
            "625/625 [==============================] - 8s 13ms/step - loss: 0.3114 - accuracy: 0.8627 - val_loss: 0.3986 - val_accuracy: 0.8201\n",
            "Epoch 102/150\n",
            "625/625 [==============================] - 8s 13ms/step - loss: 0.3108 - accuracy: 0.8622 - val_loss: 0.3936 - val_accuracy: 0.8241\n",
            "Epoch 103/150\n",
            "625/625 [==============================] - 8s 13ms/step - loss: 0.3098 - accuracy: 0.8633 - val_loss: 0.3922 - val_accuracy: 0.8232\n",
            "Epoch 104/150\n",
            "625/625 [==============================] - 8s 13ms/step - loss: 0.3091 - accuracy: 0.8631 - val_loss: 0.3952 - val_accuracy: 0.8220\n",
            "Epoch 105/150\n",
            "625/625 [==============================] - 8s 13ms/step - loss: 0.3082 - accuracy: 0.8645 - val_loss: 0.3982 - val_accuracy: 0.8198\n",
            "Epoch 106/150\n",
            "625/625 [==============================] - 8s 13ms/step - loss: 0.3073 - accuracy: 0.8629 - val_loss: 0.3940 - val_accuracy: 0.8228\n",
            "Epoch 107/150\n",
            "625/625 [==============================] - 8s 13ms/step - loss: 0.3061 - accuracy: 0.8651 - val_loss: 0.3945 - val_accuracy: 0.8238\n",
            "Epoch 108/150\n",
            "625/625 [==============================] - 8s 13ms/step - loss: 0.3060 - accuracy: 0.8644 - val_loss: 0.3932 - val_accuracy: 0.8249\n",
            "Epoch 109/150\n",
            "625/625 [==============================] - 8s 13ms/step - loss: 0.3049 - accuracy: 0.8645 - val_loss: 0.3947 - val_accuracy: 0.8255\n",
            "Epoch 110/150\n",
            "625/625 [==============================] - 8s 13ms/step - loss: 0.3042 - accuracy: 0.8660 - val_loss: 0.3948 - val_accuracy: 0.8231\n",
            "Epoch 111/150\n",
            "625/625 [==============================] - 8s 13ms/step - loss: 0.3036 - accuracy: 0.8655 - val_loss: 0.3911 - val_accuracy: 0.8246\n",
            "Epoch 112/150\n",
            "625/625 [==============================] - 8s 13ms/step - loss: 0.3024 - accuracy: 0.8676 - val_loss: 0.3926 - val_accuracy: 0.8243\n",
            "Epoch 113/150\n",
            "625/625 [==============================] - 8s 13ms/step - loss: 0.3021 - accuracy: 0.8679 - val_loss: 0.3925 - val_accuracy: 0.8229\n",
            "Epoch 114/150\n",
            "625/625 [==============================] - 8s 13ms/step - loss: 0.3013 - accuracy: 0.8667 - val_loss: 0.3916 - val_accuracy: 0.8243\n",
            "Epoch 115/150\n",
            "625/625 [==============================] - 8s 13ms/step - loss: 0.3009 - accuracy: 0.8676 - val_loss: 0.3917 - val_accuracy: 0.8252\n",
            "Epoch 116/150\n",
            "625/625 [==============================] - 8s 13ms/step - loss: 0.2998 - accuracy: 0.8680 - val_loss: 0.3905 - val_accuracy: 0.8249\n",
            "Epoch 117/150\n",
            "625/625 [==============================] - 8s 13ms/step - loss: 0.2993 - accuracy: 0.8684 - val_loss: 0.3935 - val_accuracy: 0.8243\n",
            "Epoch 118/150\n",
            "625/625 [==============================] - 8s 13ms/step - loss: 0.2986 - accuracy: 0.8675 - val_loss: 0.3919 - val_accuracy: 0.8256\n",
            "Epoch 119/150\n",
            "625/625 [==============================] - 8s 13ms/step - loss: 0.2982 - accuracy: 0.8691 - val_loss: 0.3918 - val_accuracy: 0.8223\n",
            "Epoch 120/150\n",
            "625/625 [==============================] - 8s 13ms/step - loss: 0.2975 - accuracy: 0.8680 - val_loss: 0.3938 - val_accuracy: 0.8247\n",
            "Epoch 121/150\n",
            "625/625 [==============================] - 8s 13ms/step - loss: 0.2960 - accuracy: 0.8692 - val_loss: 0.3919 - val_accuracy: 0.8253\n",
            "Epoch 122/150\n",
            "625/625 [==============================] - 8s 13ms/step - loss: 0.2957 - accuracy: 0.8698 - val_loss: 0.3936 - val_accuracy: 0.8258\n",
            "Epoch 123/150\n",
            "625/625 [==============================] - 8s 13ms/step - loss: 0.2951 - accuracy: 0.8694 - val_loss: 0.3911 - val_accuracy: 0.8261\n",
            "Epoch 124/150\n",
            "625/625 [==============================] - 8s 13ms/step - loss: 0.2943 - accuracy: 0.8698 - val_loss: 0.3934 - val_accuracy: 0.8237\n",
            "Epoch 125/150\n",
            "625/625 [==============================] - 8s 13ms/step - loss: 0.2942 - accuracy: 0.8702 - val_loss: 0.3940 - val_accuracy: 0.8264\n",
            "Epoch 126/150\n",
            "625/625 [==============================] - 8s 13ms/step - loss: 0.2930 - accuracy: 0.8704 - val_loss: 0.3932 - val_accuracy: 0.8241\n",
            "Epoch 127/150\n",
            "625/625 [==============================] - 8s 13ms/step - loss: 0.2930 - accuracy: 0.8716 - val_loss: 0.3940 - val_accuracy: 0.8249\n",
            "Epoch 128/150\n",
            "625/625 [==============================] - 8s 13ms/step - loss: 0.2919 - accuracy: 0.8719 - val_loss: 0.3959 - val_accuracy: 0.8249\n",
            "Epoch 129/150\n",
            "625/625 [==============================] - 8s 13ms/step - loss: 0.2912 - accuracy: 0.8713 - val_loss: 0.3939 - val_accuracy: 0.8226\n",
            "Epoch 130/150\n",
            "625/625 [==============================] - 8s 13ms/step - loss: 0.2905 - accuracy: 0.8721 - val_loss: 0.3922 - val_accuracy: 0.8240\n",
            "Epoch 131/150\n",
            "625/625 [==============================] - 8s 13ms/step - loss: 0.2900 - accuracy: 0.8719 - val_loss: 0.4028 - val_accuracy: 0.8185\n",
            "Epoch 132/150\n",
            "625/625 [==============================] - 8s 13ms/step - loss: 0.2893 - accuracy: 0.8734 - val_loss: 0.3952 - val_accuracy: 0.8253\n",
            "Epoch 133/150\n",
            "625/625 [==============================] - 8s 13ms/step - loss: 0.2890 - accuracy: 0.8731 - val_loss: 0.3907 - val_accuracy: 0.8240\n",
            "Epoch 134/150\n",
            "625/625 [==============================] - 8s 13ms/step - loss: 0.2888 - accuracy: 0.8742 - val_loss: 0.3957 - val_accuracy: 0.8256\n",
            "Epoch 135/150\n",
            "625/625 [==============================] - 8s 13ms/step - loss: 0.2871 - accuracy: 0.8738 - val_loss: 0.3934 - val_accuracy: 0.8249\n",
            "Epoch 136/150\n",
            "625/625 [==============================] - 8s 13ms/step - loss: 0.2866 - accuracy: 0.8737 - val_loss: 0.3964 - val_accuracy: 0.8246\n",
            "Epoch 137/150\n",
            "625/625 [==============================] - 8s 13ms/step - loss: 0.2862 - accuracy: 0.8753 - val_loss: 0.3919 - val_accuracy: 0.8250\n",
            "Epoch 138/150\n",
            "625/625 [==============================] - 8s 13ms/step - loss: 0.2857 - accuracy: 0.8751 - val_loss: 0.3939 - val_accuracy: 0.8249\n",
            "Epoch 139/150\n",
            "625/625 [==============================] - 8s 13ms/step - loss: 0.2851 - accuracy: 0.8749 - val_loss: 0.3940 - val_accuracy: 0.8241\n",
            "Epoch 140/150\n",
            "625/625 [==============================] - 8s 13ms/step - loss: 0.2840 - accuracy: 0.8764 - val_loss: 0.3934 - val_accuracy: 0.8247\n",
            "Epoch 141/150\n",
            "625/625 [==============================] - 8s 13ms/step - loss: 0.2839 - accuracy: 0.8751 - val_loss: 0.3969 - val_accuracy: 0.8252\n",
            "Epoch 142/150\n",
            "625/625 [==============================] - 8s 13ms/step - loss: 0.2833 - accuracy: 0.8758 - val_loss: 0.3948 - val_accuracy: 0.8267\n",
            "Epoch 143/150\n",
            "625/625 [==============================] - 8s 13ms/step - loss: 0.2828 - accuracy: 0.8763 - val_loss: 0.3965 - val_accuracy: 0.8265\n",
            "Epoch 144/150\n",
            "625/625 [==============================] - 8s 13ms/step - loss: 0.2823 - accuracy: 0.8770 - val_loss: 0.4017 - val_accuracy: 0.8229\n",
            "Epoch 145/150\n",
            "625/625 [==============================] - 8s 13ms/step - loss: 0.2816 - accuracy: 0.8767 - val_loss: 0.3932 - val_accuracy: 0.8246\n",
            "Epoch 146/150\n",
            "625/625 [==============================] - 8s 13ms/step - loss: 0.2810 - accuracy: 0.8776 - val_loss: 0.3929 - val_accuracy: 0.8241\n",
            "Epoch 147/150\n",
            "625/625 [==============================] - 8s 13ms/step - loss: 0.2805 - accuracy: 0.8778 - val_loss: 0.3943 - val_accuracy: 0.8229\n",
            "Epoch 148/150\n",
            "625/625 [==============================] - 8s 13ms/step - loss: 0.2798 - accuracy: 0.8781 - val_loss: 0.3934 - val_accuracy: 0.8258\n",
            "Epoch 149/150\n",
            "625/625 [==============================] - 8s 13ms/step - loss: 0.2791 - accuracy: 0.8779 - val_loss: 0.3963 - val_accuracy: 0.8246\n",
            "Epoch 150/150\n",
            "625/625 [==============================] - 8s 13ms/step - loss: 0.2788 - accuracy: 0.8788 - val_loss: 0.3982 - val_accuracy: 0.8256\n"
          ]
        }
      ]
    },
    {
      "cell_type": "code",
      "source": [
        "import matplotlib.pyplot as plt\n",
        "\n",
        "\n",
        "def plot_graphs(history, string):\n",
        "  plt.plot(history.history[string])\n",
        "  plt.plot(history.history['val_'+string])\n",
        "  plt.xlabel(\"Epochs\")\n",
        "  plt.ylabel(string)\n",
        "  plt.legend([string, 'val_'+string])\n",
        "  plt.show()\n",
        "\n",
        "plot_graphs(history, 'accuracy')\n",
        "plot_graphs(history, 'loss')"
      ],
      "metadata": {
        "id": "C7g8A0ReZFNb",
        "outputId": "9e19a530-6dd2-480c-d49f-133406958e75",
        "colab": {
          "base_uri": "https://localhost:8080/",
          "height": 881
        }
      },
      "execution_count": 62,
      "outputs": [
        {
          "output_type": "display_data",
          "data": {
            "text/plain": [
              "<Figure size 640x480 with 1 Axes>"
            ],
            "image/png": "[encoded data removed]"
          },
          "metadata": {}
        },
        {
          "output_type": "display_data",
          "data": {
            "text/plain": [
              "<Figure size 640x480 with 1 Axes>"
            ],
            "image/png": "[encoded data removed]"
          },
          "metadata": {}
        }
      ]
    },
    {
      "cell_type": "code",
      "source": [
        "model.save(\"test.h5\")"
      ],
      "metadata": {
        "id": "jVjw6r039ryA"
      },
      "execution_count": 63,
      "outputs": []
    }
  ],
  "metadata": {
    "colab": {
      "name": "Making the Most of your Colab Subscription",
      "provenance": [],
      "machine_shape": "hm",
      "gpuType": "V100"
    },
    "kernelspec": {
      "display_name": "Python 3",
      "name": "python3"
    },
    "accelerator": "GPU"
  },
  "nbformat": 4,
  "nbformat_minor": 0
}